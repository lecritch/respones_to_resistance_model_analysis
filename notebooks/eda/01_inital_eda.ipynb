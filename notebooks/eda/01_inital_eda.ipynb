{
 "cells": [
  {
   "cell_type": "markdown",
   "metadata": {},
   "source": [
    "# Initial EDA\n",
    "\n",
    "In this notebook, I explore the data for the first time using the 2019 dataset to get a feel for the columns and layout of the data.  \n",
    "\n",
    "My aim after this exploration is to have a good grasp on what the dataset contains, how things will need to be changed/formatted/engineered in order to create my FSM. "
   ]
  },
  {
   "cell_type": "markdown",
   "metadata": {},
   "source": [
    "### Imports"
   ]
  },
  {
   "cell_type": "code",
   "execution_count": null,
   "metadata": {},
   "outputs": [],
   "source": [
    "import pandas as pd\n",
    "import numpy as np\n",
    "import seaborn as sns\n",
    "import matplotlib.pyplot as plt\n",
    "%matplotlib inline\n",
    "\n",
    "parent_dir = '../../'"
   ]
  },
  {
   "cell_type": "code",
   "execution_count": null,
   "metadata": {},
   "outputs": [],
   "source": [
    "from IPython.display import display\n",
    "pd.options.display.max_columns = None"
   ]
  },
  {
   "cell_type": "markdown",
   "metadata": {},
   "source": [
    "### Import Data"
   ]
  },
  {
   "cell_type": "code",
   "execution_count": null,
   "metadata": {},
   "outputs": [],
   "source": [
    "prr19 = pd.read_csv(parent_dir + 'data/prr_2019.csv')\n",
    "prr19.head()"
   ]
  },
  {
   "cell_type": "code",
   "execution_count": null,
   "metadata": {},
   "outputs": [],
   "source": [
    "prr19.info()"
   ]
  },
  {
   "cell_type": "markdown",
   "metadata": {},
   "source": [
    "## Inital comments\n",
    "\n",
    "There does not appear to be any documentation for this dataset and so we might need to make some inferences about certain columns and dig deeper into what they mean. For now, I'll detail my current understanding of the column descriptions:\n",
    "\n",
    "### Column Descriptions\n",
    "\n",
    "- objectid:  this appears to be the incident ID and should be unique (check this).  This is probably the identifier of the dataset\n",
    "- zip:  zip code of the incident - currently a float, should probably change to integer\n",
    "- filenum:  the file number of the incident that is recorded in official police records - check this and make sure it aligns with police records (should be able to look file numbers up...)\n",
    "- uofnum:  UOF should stand for 'Use of Force'.  The use of force number probably refers to an id number relating to the type of force used.  Should check that uofnum and forcetype match up. \n",
    "- occurred_d:  Date the incident occured.  Change to datetime object\n",
    "- occured_t:  time the incident occured.  Change to datetime object\n",
    "- current_ba:  Not sure what this column means - will need to look this up.  What does ba mean?  It looks like some sort of identification number - I wonder if it's a number that identifies the police officer?\n",
    "- offsex:  Sex of the officer \n",
    "- offrace:  Race of the officer\n",
    "- hire_dt:  Date the officer was hired.  Change to datetime object\n",
    "- off_injure:  Whether the officer was injured during the encounter.\n",
    "- offcondtype:  What type of condition the officer was in after the incident and/or what injury/ies they had\n",
    "- off_hospit:  I think this is whether the officer had to go to hospital or not - check this\n",
    "- service_ty:  I'm not sure what this is exactly but it looks like it is what type of service the officer performed during the incident or what it was labelled as when the officer was called to the scene.  e.g. were they performing an arrest, were they off duty and witnessed a crime, were they attending a service call etc\n",
    "- forcetype:  This details what type of force was used on the citizen\n",
    "- street_n:  The street number of the incident\n",
    "- street:  The street of the incident\n",
    "- street_g:  This appears to be the direction of the street address (E, S etc)\n",
    "- street_t:  This is the street type (rd, st, blvd etc)\n",
    "- address:  The full address (as specified by above fields)\n",
    "- citnum:  This appears to be some sort of identification number for the citizen.  I'm not clear on this though and I should verify this\n",
    "- citrace:  Race of the citizen\n",
    "- citsex:  Sex of the citzen\n",
    "- cit_injure:  Whether the citizen was injured during the encounter or not\n",
    "- citcondtyp:  The condition of the citizen after the incident\n",
    "- cit_arrest:  Whether the citizen was arrested or not (it should be determined whether they were arrested because of the inital incident or arrested because of the resistance (is the dataset on resistance to arrest?  What other types of resistance are there?)\n",
    "- cit_infl_a:  Was the citizen under the influence of anything during the incident.  'Mentally unstable' is a value in this column so are they counting mental instability as being 'under the influence'?\n",
    "- citcharget:  Details of what the citizen was being arrest for\n",
    "- council district:  The ID of the coucil district of the incident\n",
    "- ra:  Not sure what RA is - look this up\n",
    "- beat:  The police beat in which the incident occured?  Or is this the police beat from which the officers are from?\n",
    "- sector:  The police sector?  Or the county section?  Check this\n",
    "- division:  I think this relates to county info?  But could be more police sector info?  Check this - is it even needed?\n",
    "- x:  Coordinates of the incident?  Not sure...\n",
    "- y:  coordinates of the incident?  Not sure...\n",
    "- geolocation:  Location of the incident\n",
    "- council districts--test:  Not sure\n",
    "- dallas city limis gis layer:  Not sure\n",
    "\n",
    "### Other questions about the data:\n",
    "- Is the dataset on resistance to arrest?  What other types of resistance are there?\n",
    "- In the cit_infl_a column, 'Mentally unstable' is a value in this column so are they counting mental instability as being 'under the influence'?"
   ]
  },
  {
   "cell_type": "markdown",
   "metadata": {},
   "source": [
    "## Data Prep"
   ]
  },
  {
   "cell_type": "code",
   "execution_count": null,
   "metadata": {},
   "outputs": [],
   "source": [
    "# change column names to lower case:\n",
    "prr19.columns = prr19.columns.str.lower()"
   ]
  },
  {
   "cell_type": "code",
   "execution_count": null,
   "metadata": {},
   "outputs": [],
   "source": [
    "prr19.head()"
   ]
  },
  {
   "cell_type": "code",
   "execution_count": null,
   "metadata": {},
   "outputs": [],
   "source": [
    "prr19.columns"
   ]
  },
  {
   "cell_type": "code",
   "execution_count": null,
   "metadata": {},
   "outputs": [],
   "source": [
    "col_names = ['objectid', 'zip', 'file_num', 'uof_num', 'date_occured', 'time_occured', 'current_ba', 'off_sex', 'off_race', 'hire_date', 'off_injured', 'off_cond_type',\n",
    "            'off_hospital', 'service_type', 'uof_type', 'uof_reason', 'cycles_num', 'uof_effective', 'street_n', 'street', 'street_g', 'street_t', 'address', 'cit_num', \n",
    "            'cit_race', 'cit_sex', 'cit_injured', 'cit_cond_type', 'cit_arrest', 'cit_influence', 'cit_charge_type', 'council_district', 'ra', 'beat', 'sector', 'division',\n",
    "            'x', 'y', 'geolocation', 'council_districts_test', 'dallas_city_limis_gis_layer']"
   ]
  },
  {
   "cell_type": "code",
   "execution_count": null,
   "metadata": {},
   "outputs": [],
   "source": [
    "len(prr19.columns)"
   ]
  },
  {
   "cell_type": "code",
   "execution_count": null,
   "metadata": {},
   "outputs": [],
   "source": [
    "len(col_names)"
   ]
  },
  {
   "cell_type": "code",
   "execution_count": null,
   "metadata": {},
   "outputs": [],
   "source": [
    "prr19.columns = col_names"
   ]
  },
  {
   "cell_type": "code",
   "execution_count": null,
   "metadata": {},
   "outputs": [],
   "source": [
    "prr19.head()"
   ]
  },
  {
   "cell_type": "markdown",
   "metadata": {},
   "source": [
    "### Change dtypes and NaNs"
   ]
  },
  {
   "cell_type": "markdown",
   "metadata": {},
   "source": [
    "Check first for nan's in each column"
   ]
  },
  {
   "cell_type": "code",
   "execution_count": null,
   "metadata": {},
   "outputs": [],
   "source": [
    "prr19.isna().sum()"
   ]
  },
  {
   "cell_type": "code",
   "execution_count": null,
   "metadata": {},
   "outputs": [],
   "source": [
    "prr19[prr19.zip.isna()]"
   ]
  },
  {
   "cell_type": "markdown",
   "metadata": {},
   "source": [
    "It looks like most of the 'na' values are in relation to the location.  There are 38 entries missing race and 10 missing sex which are more valuable features not to miss. \n",
    "\n",
    "Missing the most balues from the cycles_num column which I don't know what this column represents.  I'll have a look at unique values below.  Missing street directions as well but this is to be expected since not all streets have specified directions. \n",
    "\n",
    "Other nan's a reasonable since it means it just wasn't relevant to the incident."
   ]
  },
  {
   "cell_type": "code",
   "execution_count": null,
   "metadata": {},
   "outputs": [],
   "source": [
    "prr19.cycles_num.unique()"
   ]
  },
  {
   "cell_type": "code",
   "execution_count": null,
   "metadata": {},
   "outputs": [],
   "source": [
    "# zip to int:\n",
    "prr19.zip.unique()"
   ]
  },
  {
   "cell_type": "code",
   "execution_count": null,
   "metadata": {},
   "outputs": [],
   "source": [
    "prr19.zip.isna().sum()"
   ]
  },
  {
   "cell_type": "code",
   "execution_count": null,
   "metadata": {},
   "outputs": [],
   "source": [
    "prr19.astype({'zip': 'int64'}, errors = 'ignore', inplace = True)"
   ]
  },
  {
   "cell_type": "markdown",
   "metadata": {},
   "source": [
    "Not sure why it won't change zip to an int... I guess it doesn't matter..."
   ]
  },
  {
   "cell_type": "code",
   "execution_count": null,
   "metadata": {},
   "outputs": [],
   "source": [
    "prr19.info()"
   ]
  },
  {
   "cell_type": "markdown",
   "metadata": {},
   "source": [
    "Change date time objects:"
   ]
  },
  {
   "cell_type": "code",
   "execution_count": null,
   "metadata": {},
   "outputs": [],
   "source": [
    "prr19['date_occured'] = pd.to_datetime(prr19.date_occured)"
   ]
  },
  {
   "cell_type": "code",
   "execution_count": null,
   "metadata": {},
   "outputs": [],
   "source": [
    "prr19['time_occured'] = pd.to_datetime(prr19.time_occured)"
   ]
  },
  {
   "cell_type": "code",
   "execution_count": null,
   "metadata": {},
   "outputs": [],
   "source": [
    "prr19['hire_date'] = pd.to_datetime(prr19.hire_date)"
   ]
  },
  {
   "cell_type": "code",
   "execution_count": null,
   "metadata": {},
   "outputs": [],
   "source": [
    "prr19.info()"
   ]
  },
  {
   "cell_type": "markdown",
   "metadata": {},
   "source": [
    "### Officer Sex and Race info:"
   ]
  },
  {
   "cell_type": "code",
   "execution_count": null,
   "metadata": {},
   "outputs": [],
   "source": [
    "prr19.off_sex.unique()"
   ]
  },
  {
   "cell_type": "code",
   "execution_count": null,
   "metadata": {},
   "outputs": [],
   "source": [
    "prr19.off_sex.value_counts()"
   ]
  },
  {
   "cell_type": "code",
   "execution_count": null,
   "metadata": {},
   "outputs": [],
   "source": [
    "prr19.off_sex.value_counts(normalize = True)"
   ]
  },
  {
   "cell_type": "code",
   "execution_count": null,
   "metadata": {},
   "outputs": [],
   "source": [
    "# visualise:"
   ]
  },
  {
   "cell_type": "code",
   "execution_count": null,
   "metadata": {},
   "outputs": [],
   "source": [
    "fig, ax = plt.subplots(figsize = (10, 8))\n",
    "sns.countplot(x = \"off_sex\", data = prr19)\n",
    "ax.set_title('Proportion of Male to Femal Officers', fontsize = 20)\n",
    "ax.set_xlabel('Sex', fontsize = 18)\n",
    "ax.set_ylabel('Count', fontsize = 18)\n",
    "plt.show()"
   ]
  },
  {
   "cell_type": "markdown",
   "metadata": {},
   "source": [
    "We can see here that over 88% of cops are male."
   ]
  },
  {
   "cell_type": "code",
   "execution_count": null,
   "metadata": {},
   "outputs": [],
   "source": [
    "prr19.off_race.unique()"
   ]
  },
  {
   "cell_type": "code",
   "execution_count": null,
   "metadata": {},
   "outputs": [],
   "source": [
    "# visualise"
   ]
  },
  {
   "cell_type": "code",
   "execution_count": null,
   "metadata": {},
   "outputs": [],
   "source": [
    "fig, ax = plt.subplots(figsize = (10, 8))\n",
    "sns.countplot(x = \"off_race\", data = prr19)\n",
    "ax.set_title('Distribution of Officer Races', fontsize = 20)\n",
    "ax.set_xlabel('Race', fontsize = 18)\n",
    "ax.set_ylabel('Count', fontsize = 18)\n",
    "plt.show()"
   ]
  },
  {
   "cell_type": "code",
   "execution_count": null,
   "metadata": {},
   "outputs": [],
   "source": [
    "prr19.off_race.value_counts(normalize = True)"
   ]
  },
  {
   "cell_type": "markdown",
   "metadata": {},
   "source": [
    "So here we see that 58% of cops are white, 25% are hispanic and 12% are black."
   ]
  },
  {
   "cell_type": "markdown",
   "metadata": {},
   "source": [
    "### Citizen Sex and Race info:"
   ]
  },
  {
   "cell_type": "code",
   "execution_count": null,
   "metadata": {},
   "outputs": [],
   "source": [
    "prr19.cit_sex.unique()"
   ]
  },
  {
   "cell_type": "code",
   "execution_count": null,
   "metadata": {},
   "outputs": [],
   "source": [
    "for val in prr19.cit_sex.unique():\n",
    "    print(type(val))"
   ]
  },
  {
   "cell_type": "markdown",
   "metadata": {},
   "source": [
    "So we have both 'unknown' and 'nan' values.  It would be best to consolidate these into one group since nan most likely means 'unknown'"
   ]
  },
  {
   "cell_type": "code",
   "execution_count": null,
   "metadata": {},
   "outputs": [],
   "source": [
    "prr19.cit_sex.isna().sum()"
   ]
  },
  {
   "cell_type": "code",
   "execution_count": null,
   "metadata": {},
   "outputs": [],
   "source": [
    "prr19[prr19['cit_sex'] == 'Unknown'].shape"
   ]
  },
  {
   "cell_type": "code",
   "execution_count": null,
   "metadata": {},
   "outputs": [],
   "source": [
    "prr19.cit_sex.replace('Unknown', np.nan, inplace = True)"
   ]
  },
  {
   "cell_type": "code",
   "execution_count": null,
   "metadata": {},
   "outputs": [],
   "source": [
    "prr19.cit_sex.isna().sum()"
   ]
  },
  {
   "cell_type": "code",
   "execution_count": null,
   "metadata": {},
   "outputs": [],
   "source": [
    "fig, ax = plt.subplots(figsize = (10, 8))\n",
    "sns.countplot(x = \"cit_sex\", data = prr19)\n",
    "ax.set_title('Proportion of Male to Femal Citizens (nan ignored)', fontsize = 20)\n",
    "ax.set_xlabel('Sex', fontsize = 18)\n",
    "ax.set_ylabel('Count', fontsize = 18)\n",
    "plt.show()"
   ]
  },
  {
   "cell_type": "code",
   "execution_count": null,
   "metadata": {},
   "outputs": [],
   "source": [
    "prr19.cit_sex.value_counts(normalize = True)"
   ]
  },
  {
   "cell_type": "markdown",
   "metadata": {},
   "source": [
    "85% of citizens in this dataset are male."
   ]
  },
  {
   "cell_type": "code",
   "execution_count": null,
   "metadata": {},
   "outputs": [],
   "source": [
    "prr19.cit_race.unique()"
   ]
  },
  {
   "cell_type": "markdown",
   "metadata": {},
   "source": [
    "We've got `Unknown`, `nan` and `Other` as categories.  Could these actually be categoriesed into the one category?"
   ]
  },
  {
   "cell_type": "code",
   "execution_count": null,
   "metadata": {},
   "outputs": [],
   "source": [
    "prr19.cit_race.isna().sum()"
   ]
  },
  {
   "cell_type": "code",
   "execution_count": null,
   "metadata": {},
   "outputs": [],
   "source": [
    "prr19[prr19['cit_race'] == 'Unknown'].shape"
   ]
  },
  {
   "cell_type": "code",
   "execution_count": null,
   "metadata": {},
   "outputs": [],
   "source": [
    "prr19[prr19['cit_race'] == 'Other'].shape"
   ]
  },
  {
   "cell_type": "markdown",
   "metadata": {},
   "source": [
    "So there are 38 'nan', 4 'unknown' and 11 'other' categories.  I think I'm going to combine these for now because I think all signify that a race was not identified. "
   ]
  },
  {
   "cell_type": "code",
   "execution_count": null,
   "metadata": {},
   "outputs": [],
   "source": [
    "prr19.cit_race.replace('Unknown', np.nan, inplace = True)\n",
    "prr19.cit_race.replace('Other', np.nan, inplace = True)"
   ]
  },
  {
   "cell_type": "code",
   "execution_count": null,
   "metadata": {},
   "outputs": [],
   "source": [
    "prr19.cit_race.isna().sum()"
   ]
  },
  {
   "cell_type": "code",
   "execution_count": null,
   "metadata": {},
   "outputs": [],
   "source": [
    "fig, ax = plt.subplots(figsize = (10, 8))\n",
    "sns.countplot(x = \"cit_race\", data = prr19)\n",
    "ax.set_title('Distribution of Citizen Races', fontsize = 20)\n",
    "ax.set_xlabel('Race', fontsize = 18)\n",
    "ax.set_ylabel('Count', fontsize = 18)\n",
    "plt.show()"
   ]
  },
  {
   "cell_type": "code",
   "execution_count": null,
   "metadata": {},
   "outputs": [],
   "source": [
    "prr19.cit_race.value_counts(normalize = True)"
   ]
  },
  {
   "cell_type": "markdown",
   "metadata": {},
   "source": [
    "So here we see that 55% of citizens in this dataset are black, 22% are white and also 22% are hispanic.  Very small amount are asian and american indian. "
   ]
  },
  {
   "cell_type": "markdown",
   "metadata": {},
   "source": [
    "Check where we are:"
   ]
  },
  {
   "cell_type": "code",
   "execution_count": null,
   "metadata": {},
   "outputs": [],
   "source": [
    "prr19.info()"
   ]
  },
  {
   "cell_type": "markdown",
   "metadata": {},
   "source": [
    "### Count Num of Citizens and Num of Officers"
   ]
  },
  {
   "cell_type": "markdown",
   "metadata": {},
   "source": [
    "How many officers and how many citizen's in the dataset?  Any repeats?"
   ]
  },
  {
   "cell_type": "code",
   "execution_count": null,
   "metadata": {},
   "outputs": [],
   "source": [
    "# number of unique citizen numbers - at the moment I think these are unique identifiers for individual citizens\n",
    "len(prr19.cit_num.unique())"
   ]
  },
  {
   "cell_type": "markdown",
   "metadata": {},
   "source": [
    "So there are only 1649 unique citizen numbers in this dataset which suggests that we have some repeat offenders?"
   ]
  },
  {
   "cell_type": "code",
   "execution_count": null,
   "metadata": {},
   "outputs": [],
   "source": [
    "prr19.cit_num.unique()"
   ]
  },
  {
   "cell_type": "code",
   "execution_count": null,
   "metadata": {},
   "outputs": [],
   "source": [
    "for num in prr19.cit_num.unique():\n",
    "    print(len(num))"
   ]
  },
  {
   "cell_type": "markdown",
   "metadata": {},
   "source": [
    "So from looking at the above print outs (it's long), all the cit_nums are multiples of 5, which makes me wonder if it's a combination of citizen numbers for multiple people involved?  I'm not sure what else cit_num could be a I might have to come back to this."
   ]
  },
  {
   "cell_type": "code",
   "execution_count": null,
   "metadata": {},
   "outputs": [],
   "source": [
    "prr19.cit_num.duplicated().sum()"
   ]
  },
  {
   "cell_type": "code",
   "execution_count": null,
   "metadata": {},
   "outputs": [],
   "source": [
    "prr19[prr19.cit_num.duplicated()].sort_values(by = ['cit_num'])"
   ]
  },
  {
   "cell_type": "code",
   "execution_count": null,
   "metadata": {},
   "outputs": [],
   "source": [
    "cit_num_counts = prr19.cit_num.value_counts()"
   ]
  },
  {
   "cell_type": "code",
   "execution_count": null,
   "metadata": {},
   "outputs": [],
   "source": [
    "cit_num_counts"
   ]
  },
  {
   "cell_type": "code",
   "execution_count": null,
   "metadata": {},
   "outputs": [],
   "source": [
    "cit_num_grt_1 = cit_num_counts[cit_num_counts > 1]"
   ]
  },
  {
   "cell_type": "code",
   "execution_count": null,
   "metadata": {},
   "outputs": [],
   "source": [
    "cit_num_grt_1"
   ]
  },
  {
   "cell_type": "markdown",
   "metadata": {},
   "source": [
    "Let's investigate the cit_num with the highest count:  78 to get an idea of what it means to have this number duplicated in muliple entries:"
   ]
  },
  {
   "cell_type": "code",
   "execution_count": null,
   "metadata": {},
   "outputs": [],
   "source": [
    "prr19[prr19.cit_num == '6006060061']"
   ]
  },
  {
   "cell_type": "markdown",
   "metadata": {},
   "source": [
    "So it looks like this cit_num relates to the same citizen and the same event since the `date_occured` column is all on the same day (same with `time_occured`) but there were multiple officers on the scene.  \n",
    "\n",
    "This gives us a clearer idea of what a row is in this dataset.  It looks like each row is of one police officer's use of force at an incident.  So if there were multiple police officers at the scene that used force, there is one entry for each police officer.  "
   ]
  },
  {
   "cell_type": "markdown",
   "metadata": {},
   "source": [
    "Let's look at one more of the high count cit_num values:"
   ]
  },
  {
   "cell_type": "code",
   "execution_count": null,
   "metadata": {},
   "outputs": [],
   "source": [
    "prr19[prr19.cit_num == '605076050860509']"
   ]
  },
  {
   "cell_type": "markdown",
   "metadata": {},
   "source": [
    "This confirms what I've been thinking - that there is a row per officer involved with a particular incident.  **So that means we have 1649 unique citizens in this dataset.**  I'm not sure how would be best to figure out how many unique officers there are in this dataset since there doesn't appear to be a unique identifier for police officers.  We could go by hire date but of course there will be officers hired on the same day.  Let's look into this further."
   ]
  },
  {
   "cell_type": "code",
   "execution_count": null,
   "metadata": {},
   "outputs": [],
   "source": [
    "# number of unique hire dates:\n",
    "len(prr19.hire_date.unique())"
   ]
  },
  {
   "cell_type": "code",
   "execution_count": null,
   "metadata": {},
   "outputs": [],
   "source": [
    "prr19.hire_date.value_counts()"
   ]
  },
  {
   "cell_type": "code",
   "execution_count": null,
   "metadata": {},
   "outputs": [],
   "source": [
    "(prr19.hire_date.value_counts() > 1).sum()"
   ]
  },
  {
   "cell_type": "markdown",
   "metadata": {},
   "source": [
    "So let's have a look at the hire_date entries for the data with 101 rows attached to it to see if this is potentially the same officer or if there are a bunch of officers that were hired on this day:"
   ]
  },
  {
   "cell_type": "code",
   "execution_count": null,
   "metadata": {},
   "outputs": [],
   "source": [
    "prr19[prr19.hire_date == '2018-02-21'].sort_values(by = ['current_ba'])"
   ]
  },
  {
   "cell_type": "markdown",
   "metadata": {},
   "source": [
    "From this, it looks like `current_ba` is potentially a unique identifier for officers.  We definitely don't have an officer who was involved in 101 incidents - it seems like there are multiple offiers who were hired on February 21, 2018.  With this in mind, let's count the number of unique `current_ba` values to see how many unique offiers are in the dataset."
   ]
  },
  {
   "cell_type": "code",
   "execution_count": null,
   "metadata": {},
   "outputs": [],
   "source": [
    "len(prr19.current_ba.unique())"
   ]
  },
  {
   "cell_type": "markdown",
   "metadata": {},
   "source": [
    "So it looks like we have **1015 different officers** in this dataset.  I will continue to verify this as I go along."
   ]
  },
  {
   "cell_type": "markdown",
   "metadata": {},
   "source": [
    "### How many unique incidents?"
   ]
  },
  {
   "cell_type": "markdown",
   "metadata": {},
   "source": [
    "Here, we assume that the `file_num` relates to unique incidents.  Let's investigate and confirm this:"
   ]
  },
  {
   "cell_type": "code",
   "execution_count": null,
   "metadata": {},
   "outputs": [],
   "source": [
    "len(prr19.file_num.unique())"
   ]
  },
  {
   "cell_type": "markdown",
   "metadata": {},
   "source": [
    "From above, we found that there were potentially 1649 citizens in this dataset, and seeing here that we have 1645 unique file numbers, this suggests that **we have 4 repeat offenders.**"
   ]
  },
  {
   "cell_type": "code",
   "execution_count": null,
   "metadata": {},
   "outputs": [],
   "source": [
    "prr19.file_num.value_counts()"
   ]
  },
  {
   "cell_type": "code",
   "execution_count": null,
   "metadata": {},
   "outputs": [],
   "source": [
    "prr19.cit_num.value_counts()"
   ]
  },
  {
   "cell_type": "markdown",
   "metadata": {},
   "source": [
    "From here we see that the 3rd-5th cit_nums have bigger counts than the file_num values, and the extras add to exactly 4 so this could indicate that these are our repeat offenders.  Let's check:"
   ]
  },
  {
   "cell_type": "code",
   "execution_count": null,
   "metadata": {},
   "outputs": [],
   "source": [
    "potential_ro = ['37379', '55113', '57295']"
   ]
  },
  {
   "cell_type": "code",
   "execution_count": null,
   "metadata": {},
   "outputs": [],
   "source": [
    "prr19[prr19.cit_num.isin(potential_ro)].sort_values(by = ['cit_num'])"
   ]
  },
  {
   "cell_type": "markdown",
   "metadata": {},
   "source": [
    "So it appears that for 2 of these citizen numbers, there are different incidents, but for cit_num 55113, there was only 1 incident attached (not a repeat offender).  cit_num 57295 was involved in 2 incidents it appears.  And cit_num 37379 was involved in 10 incidents.  That's 2 repeat offenders which means we need to find the other two.  Come back to this later (and think about what we might need the info of repeat offenders for?  Any model relevance?  Maybe not...)"
   ]
  },
  {
   "cell_type": "markdown",
   "metadata": {},
   "source": [
    "## Use of Force and Injured Classification\n",
    "\n",
    "Now investigate use of force types and effectiveness.  We'll also start by visualising the proportion of officers and citizens that are injured during a response to resistance (our target)."
   ]
  },
  {
   "cell_type": "markdown",
   "metadata": {},
   "source": [
    "### Officer Injured:"
   ]
  },
  {
   "cell_type": "code",
   "execution_count": null,
   "metadata": {},
   "outputs": [],
   "source": [
    "fig, ax = plt.subplots(figsize = (10, 8))\n",
    "sns.countplot(x = \"off_injured\", data = prr19)\n",
    "ax.set_title('Distribution of Citizen Races', fontsize = 20)\n",
    "ax.set_xlabel('Race', fontsize = 18)\n",
    "ax.set_ylabel('Count', fontsize = 18)\n",
    "plt.show()"
   ]
  },
  {
   "cell_type": "code",
   "execution_count": null,
   "metadata": {},
   "outputs": [],
   "source": [
    "fig, ax = plt.subplots(figsize = (10, 8))\n",
    "sns.countplot(x = \"cit_injured\", data = prr19)\n",
    "ax.set_title('Distribution of Citizen Races', fontsize = 20)\n",
    "ax.set_xlabel('Race', fontsize = 18)\n",
    "ax.set_ylabel('Count', fontsize = 18)\n",
    "plt.show()"
   ]
  },
  {
   "cell_type": "code",
   "execution_count": null,
   "metadata": {},
   "outputs": [],
   "source": [
    "off_inj = prr19.off_injured.value_counts()\n",
    "cit_inj = prr19.cit_injured.value_counts()\n",
    "injured = pd.DataFrame([off_inj, cit_inj])\n",
    "injured.index = ['Officers','Citizens']\n",
    "\n",
    "fig, ax = plt.subplots(figsize = (10, 8))\n",
    "injured.plot(kind='bar', stacked=True, ax = ax);\n",
    "plt.suptitle('Percentage of Officers vs. Citizens injured in Response to Resistance', fontsize = 20)\n",
    "plt.title('Where True (orange) = Injured', fontsize = 18)\n",
    "ax.set_xlabel('Officers vs. Citizens', fontsize = 18)\n",
    "ax.set_ylabel('Count', fontsize = 18)\n",
    "plt.show()"
   ]
  },
  {
   "cell_type": "code",
   "execution_count": null,
   "metadata": {},
   "outputs": [],
   "source": [
    "prr19.off_injured.value_counts(normalize = True)"
   ]
  },
  {
   "cell_type": "code",
   "execution_count": null,
   "metadata": {},
   "outputs": [],
   "source": [
    "prr19.cit_injured.value_counts(normalize = True)"
   ]
  },
  {
   "cell_type": "markdown",
   "metadata": {},
   "source": [
    "From the above, we can see that just under 10% of officers are injured in response to resistance and 23% of citizen's are injured in response to resistance.  \n",
    "\n",
    "However, these numbers are misleading given how our data is formatted and what a row represents.  We have to remember than each row is the results of ONE police officer's use of force for the incident they were involved in.  So, if there were 5 officers on the scene and all 5 used force towards the citizen, then perhaps only 1 officer's use of force resulted in injury to the citizen, however, that individual will show 'not injured' for 4 of the other officer's user of force and 'injured' for the 5th, but the overall result is that that citizen was injured during a use of force incident.  So, we need to isolate the data down to incidents, and discover whether the citizen was injured.  Since a row represents 1 officer, the officer injured statistics above should be correct, but we will need to adjust things to account for the citizen being injured.  We could do this using a group by method  (grouping by the file number).  "
   ]
  },
  {
   "cell_type": "code",
   "execution_count": null,
   "metadata": {},
   "outputs": [],
   "source": [
    "prr19.groupby(['file_num']).count()"
   ]
  },
  {
   "cell_type": "markdown",
   "metadata": {},
   "source": [
    "So, the above dataframe essentially tells us how many cops were involved in a particular incident.  We should then create an aggregate column that lists whether the end result of an incident lead to the injury of the citizen.  "
   ]
  },
  {
   "cell_type": "code",
   "execution_count": null,
   "metadata": {},
   "outputs": [],
   "source": []
  },
  {
   "cell_type": "code",
   "execution_count": null,
   "metadata": {},
   "outputs": [],
   "source": []
  },
  {
   "cell_type": "code",
   "execution_count": null,
   "metadata": {},
   "outputs": [],
   "source": []
  },
  {
   "cell_type": "markdown",
   "metadata": {},
   "source": [
    "### Use of Force Types:"
   ]
  },
  {
   "cell_type": "code",
   "execution_count": null,
   "metadata": {},
   "outputs": [],
   "source": [
    "len(prr19.uof_type.unique())"
   ]
  },
  {
   "cell_type": "markdown",
   "metadata": {},
   "source": [
    "So there are 915 different combinations of use of force.  I need to figure out how to seperate these types of force in a way that I can make conclusions about them."
   ]
  },
  {
   "cell_type": "markdown",
   "metadata": {},
   "source": [
    "-------\n",
    "Testing stuff"
   ]
  },
  {
   "cell_type": "code",
   "execution_count": null,
   "metadata": {},
   "outputs": [],
   "source": [
    "ttest = 'hello, yes'\n",
    "splitted = ttest.split(',')"
   ]
  },
  {
   "cell_type": "code",
   "execution_count": null,
   "metadata": {},
   "outputs": [],
   "source": [
    "splitted"
   ]
  },
  {
   "cell_type": "code",
   "execution_count": null,
   "metadata": {},
   "outputs": [],
   "source": [
    "test = ['hello', 'he, llo', 'what, do, you', 'think, hello', 'what, yes, he']"
   ]
  },
  {
   "cell_type": "code",
   "execution_count": null,
   "metadata": {},
   "outputs": [],
   "source": [
    "unique = []\n",
    "for item in test:\n",
    "    split = item.split(',')\n",
    "    for thing in split:\n",
    "        thing = thing.strip()\n",
    "        if thing not in unique:\n",
    "            unique.append(thing)\n",
    "unique"
   ]
  },
  {
   "cell_type": "markdown",
   "metadata": {},
   "source": [
    "-------"
   ]
  },
  {
   "cell_type": "code",
   "execution_count": null,
   "metadata": {},
   "outputs": [],
   "source": [
    "prr19.uof_type.unique()"
   ]
  },
  {
   "cell_type": "code",
   "execution_count": 238,
   "metadata": {},
   "outputs": [
    {
     "name": "stdout",
     "output_type": "stream",
     "text": [
      "Number of unique uses of force: 0\n"
     ]
    },
    {
     "data": {
      "text/plain": [
       "[]"
      ]
     },
     "execution_count": 238,
     "metadata": {},
     "output_type": "execute_result"
    }
   ],
   "source": [
    "unique_uof = []\n",
    "for uof_combo in prr19.uof_type.unique():\n",
    "    split = uof_combo.split(',')\n",
    "    for uof in split:\n",
    "        uof = uof.strip()\n",
    "        if uof not in unique:\n",
    "            unique.append(uof)\n",
    "print(f'Number of unique uses of force: {len(unique_uof)}')\n",
    "unique_uof"
   ]
  },
  {
   "cell_type": "markdown",
   "metadata": {},
   "source": [
    "So in summary, there are 915 combinations of these 32 uses of force. I'm not sure what \"BD\", \"OC\" or \"LVNR\" means..."
   ]
  },
  {
   "cell_type": "markdown",
   "metadata": {},
   "source": [
    "Will need to think about how I'm going to deal with this column for my model. \n",
    "\n",
    "For an FSM I think I might just do 2 things:  \n",
    "1. Chuck everything and LOL and see what happens\n",
    "2. Do a reduced version of this where I only put in a subset of the features including demographic information to predict injured/not injured."
   ]
  },
  {
   "cell_type": "markdown",
   "metadata": {},
   "source": [
    "## Up next:\n",
    "\n",
    "Next, I'm going to put together an FSM taking into consideration the findings of this EDA.  Then I'll come back and think about how I'm going to be more thoughtful about how to deal with these features. \n",
    "\n",
    "I also need to think about which metric will be best to use as well as being clear on who my audience is here and who this model is for...\n",
    "\n",
    "Let's see where my current data frame is and export it to a csv for use in my model later. "
   ]
  },
  {
   "cell_type": "code",
   "execution_count": 224,
   "metadata": {},
   "outputs": [
    {
     "data": {
      "text/html": [
       "<div>\n",
       "<style scoped>\n",
       "    .dataframe tbody tr th:only-of-type {\n",
       "        vertical-align: middle;\n",
       "    }\n",
       "\n",
       "    .dataframe tbody tr th {\n",
       "        vertical-align: top;\n",
       "    }\n",
       "\n",
       "    .dataframe thead th {\n",
       "        text-align: right;\n",
       "    }\n",
       "</style>\n",
       "<table border=\"1\" class=\"dataframe\">\n",
       "  <thead>\n",
       "    <tr style=\"text-align: right;\">\n",
       "      <th></th>\n",
       "      <th>objectid</th>\n",
       "      <th>zip</th>\n",
       "      <th>file_num</th>\n",
       "      <th>uof_num</th>\n",
       "      <th>date_occured</th>\n",
       "      <th>time_occured</th>\n",
       "      <th>current_ba</th>\n",
       "      <th>off_sex</th>\n",
       "      <th>off_race</th>\n",
       "      <th>hire_date</th>\n",
       "      <th>off_injured</th>\n",
       "      <th>off_cond_type</th>\n",
       "      <th>off_hospital</th>\n",
       "      <th>service_type</th>\n",
       "      <th>uof_type</th>\n",
       "      <th>uof_reason</th>\n",
       "      <th>cycles_num</th>\n",
       "      <th>uof_effective</th>\n",
       "      <th>street_n</th>\n",
       "      <th>street</th>\n",
       "      <th>street_g</th>\n",
       "      <th>street_t</th>\n",
       "      <th>address</th>\n",
       "      <th>cit_num</th>\n",
       "      <th>cit_race</th>\n",
       "      <th>cit_sex</th>\n",
       "      <th>cit_injured</th>\n",
       "      <th>cit_cond_type</th>\n",
       "      <th>cit_arrest</th>\n",
       "      <th>cit_influence</th>\n",
       "      <th>cit_charge_type</th>\n",
       "      <th>council_district</th>\n",
       "      <th>ra</th>\n",
       "      <th>beat</th>\n",
       "      <th>sector</th>\n",
       "      <th>division</th>\n",
       "      <th>x</th>\n",
       "      <th>y</th>\n",
       "      <th>geolocation</th>\n",
       "      <th>council_districts_test</th>\n",
       "      <th>dallas_city_limis_gis_layer</th>\n",
       "    </tr>\n",
       "  </thead>\n",
       "  <tbody>\n",
       "    <tr>\n",
       "      <td>0</td>\n",
       "      <td>2817</td>\n",
       "      <td>75253.0</td>\n",
       "      <td>UF2019-1702</td>\n",
       "      <td>62295, 63542</td>\n",
       "      <td>2019-12-01</td>\n",
       "      <td>2020-08-04 22:34:00</td>\n",
       "      <td>11285</td>\n",
       "      <td>Male</td>\n",
       "      <td>White</td>\n",
       "      <td>2017-03-08</td>\n",
       "      <td>False</td>\n",
       "      <td>No injuries noted or visible</td>\n",
       "      <td>False</td>\n",
       "      <td>Service Call</td>\n",
       "      <td>BD - Tripped, BD - Grabbed</td>\n",
       "      <td>Detention/Frisk</td>\n",
       "      <td>NaN</td>\n",
       "      <td>Yes, Yes</td>\n",
       "      <td>102</td>\n",
       "      <td>Beltline</td>\n",
       "      <td>S</td>\n",
       "      <td>Rd.</td>\n",
       "      <td>102 S Beltline Rd.</td>\n",
       "      <td>60833</td>\n",
       "      <td>White</td>\n",
       "      <td>Male</td>\n",
       "      <td>False</td>\n",
       "      <td>No injuries noted or visible</td>\n",
       "      <td>False</td>\n",
       "      <td>Agitated</td>\n",
       "      <td>No Arrest</td>\n",
       "      <td>D8</td>\n",
       "      <td>6062.0</td>\n",
       "      <td>357.0</td>\n",
       "      <td>350.0</td>\n",
       "      <td>SOUTHEAST</td>\n",
       "      <td>2557123.437</td>\n",
       "      <td>6944231.397</td>\n",
       "      <td>POINT (-96.586265 32.702825)</td>\n",
       "      <td>8.0</td>\n",
       "      <td>3.0</td>\n",
       "    </tr>\n",
       "    <tr>\n",
       "      <td>1</td>\n",
       "      <td>2234</td>\n",
       "      <td>75208.0</td>\n",
       "      <td>UF2019-1344</td>\n",
       "      <td>61093</td>\n",
       "      <td>2019-10-06</td>\n",
       "      <td>2020-08-04 00:50:00</td>\n",
       "      <td>11208</td>\n",
       "      <td>Male</td>\n",
       "      <td>White</td>\n",
       "      <td>2016-08-24</td>\n",
       "      <td>True</td>\n",
       "      <td>No injuries noted or visible</td>\n",
       "      <td>False</td>\n",
       "      <td>Arrest</td>\n",
       "      <td>Held Suspect Down</td>\n",
       "      <td>Arrest</td>\n",
       "      <td>NaN</td>\n",
       "      <td>Yes</td>\n",
       "      <td>1500</td>\n",
       "      <td>Oak Cliff</td>\n",
       "      <td>S</td>\n",
       "      <td>Blvd.</td>\n",
       "      <td>1500 S Oak Cliff Blvd.</td>\n",
       "      <td>6020748798</td>\n",
       "      <td>Hispanic</td>\n",
       "      <td>Female</td>\n",
       "      <td>True</td>\n",
       "      <td>Injured prior to contact</td>\n",
       "      <td>True</td>\n",
       "      <td>Agitated</td>\n",
       "      <td>APOWW</td>\n",
       "      <td>D1</td>\n",
       "      <td>4160.0</td>\n",
       "      <td>444.0</td>\n",
       "      <td>440.0</td>\n",
       "      <td>SOUTHWEST</td>\n",
       "      <td>2474936.793</td>\n",
       "      <td>6952151.398</td>\n",
       "      <td>POINT (-96.853036 32.729136)</td>\n",
       "      <td>1.0</td>\n",
       "      <td>3.0</td>\n",
       "    </tr>\n",
       "    <tr>\n",
       "      <td>2</td>\n",
       "      <td>2755</td>\n",
       "      <td>75231.0</td>\n",
       "      <td>UF2019-1665</td>\n",
       "      <td>62820</td>\n",
       "      <td>2019-12-31</td>\n",
       "      <td>2020-08-04 23:37:00</td>\n",
       "      <td>9415</td>\n",
       "      <td>Male</td>\n",
       "      <td>White</td>\n",
       "      <td>2008-04-02</td>\n",
       "      <td>False</td>\n",
       "      <td>No injuries noted or visible</td>\n",
       "      <td>False</td>\n",
       "      <td>Arrest</td>\n",
       "      <td>K-9 Deployment</td>\n",
       "      <td>Arrest</td>\n",
       "      <td>NaN</td>\n",
       "      <td>Yes</td>\n",
       "      <td>6904</td>\n",
       "      <td>Walling</td>\n",
       "      <td>NaN</td>\n",
       "      <td>Ln.</td>\n",
       "      <td>6904 Walling Ln.</td>\n",
       "      <td>61130</td>\n",
       "      <td>Black</td>\n",
       "      <td>Male</td>\n",
       "      <td>True</td>\n",
       "      <td>Bite</td>\n",
       "      <td>True</td>\n",
       "      <td>Poor hygiene</td>\n",
       "      <td>Burglary/Habitation, Warrant/Hold</td>\n",
       "      <td>D9</td>\n",
       "      <td>6034.0</td>\n",
       "      <td>247.0</td>\n",
       "      <td>240.0</td>\n",
       "      <td>NORTHEAST</td>\n",
       "      <td>2508349.267</td>\n",
       "      <td>7001784.466</td>\n",
       "      <td>POINT (-96.741661 32.863941)</td>\n",
       "      <td>13.0</td>\n",
       "      <td>3.0</td>\n",
       "    </tr>\n",
       "    <tr>\n",
       "      <td>3</td>\n",
       "      <td>2110</td>\n",
       "      <td>75228.0</td>\n",
       "      <td>UF2019-1314</td>\n",
       "      <td>60990</td>\n",
       "      <td>2019-09-30</td>\n",
       "      <td>2020-08-04 18:20:00</td>\n",
       "      <td>9884</td>\n",
       "      <td>Male</td>\n",
       "      <td>Hispanic</td>\n",
       "      <td>2009-06-10</td>\n",
       "      <td>False</td>\n",
       "      <td>No injuries noted or visible</td>\n",
       "      <td>False</td>\n",
       "      <td>Call for Cover</td>\n",
       "      <td>Joint Locks</td>\n",
       "      <td>Arrest</td>\n",
       "      <td>NaN</td>\n",
       "      <td>Yes</td>\n",
       "      <td>11760</td>\n",
       "      <td>Ferguson</td>\n",
       "      <td>NaN</td>\n",
       "      <td>Rd.</td>\n",
       "      <td>11760 Ferguson Rd.</td>\n",
       "      <td>26625</td>\n",
       "      <td>White</td>\n",
       "      <td>Female</td>\n",
       "      <td>False</td>\n",
       "      <td>No injuries noted or visible</td>\n",
       "      <td>True</td>\n",
       "      <td>Unknown Drugs</td>\n",
       "      <td>Assault/FV, Resisting Arrest, Warrant/Hold</td>\n",
       "      <td>D9</td>\n",
       "      <td>1132.0</td>\n",
       "      <td>228.0</td>\n",
       "      <td>220.0</td>\n",
       "      <td>NORTHEAST</td>\n",
       "      <td>2536678.324</td>\n",
       "      <td>6999039.025</td>\n",
       "      <td>POINT (-96.649175 32.855492)</td>\n",
       "      <td>13.0</td>\n",
       "      <td>3.0</td>\n",
       "    </tr>\n",
       "    <tr>\n",
       "      <td>4</td>\n",
       "      <td>1663</td>\n",
       "      <td>75051.0</td>\n",
       "      <td>UF2019-1030</td>\n",
       "      <td>59592, 59600</td>\n",
       "      <td>2019-08-04</td>\n",
       "      <td>2020-08-04 00:10:00</td>\n",
       "      <td>10480</td>\n",
       "      <td>Male</td>\n",
       "      <td>Hispanic</td>\n",
       "      <td>2012-09-26</td>\n",
       "      <td>True</td>\n",
       "      <td>No injuries noted or visible</td>\n",
       "      <td>False</td>\n",
       "      <td>Arrest</td>\n",
       "      <td>Joint Locks, BD - Grabbed</td>\n",
       "      <td>Arrest</td>\n",
       "      <td>NaN</td>\n",
       "      <td>Yes, Yes</td>\n",
       "      <td>1350</td>\n",
       "      <td>Skyline</td>\n",
       "      <td>NaN</td>\n",
       "      <td>Rd.</td>\n",
       "      <td>1350 Skyline Rd.</td>\n",
       "      <td>59513</td>\n",
       "      <td>Black</td>\n",
       "      <td>Male</td>\n",
       "      <td>False</td>\n",
       "      <td>No injuries noted or visible</td>\n",
       "      <td>True</td>\n",
       "      <td>Agitated</td>\n",
       "      <td>Assault/Public Servant</td>\n",
       "      <td>NaN</td>\n",
       "      <td>NaN</td>\n",
       "      <td>NaN</td>\n",
       "      <td>NaN</td>\n",
       "      <td>NaN</td>\n",
       "      <td>2433285.622</td>\n",
       "      <td>6953645.720</td>\n",
       "      <td>POINT (-96.98722 32.734935)</td>\n",
       "      <td>NaN</td>\n",
       "      <td>NaN</td>\n",
       "    </tr>\n",
       "  </tbody>\n",
       "</table>\n",
       "</div>"
      ],
      "text/plain": [
       "   objectid      zip     file_num       uof_num date_occured  \\\n",
       "0      2817  75253.0  UF2019-1702  62295, 63542   2019-12-01   \n",
       "1      2234  75208.0  UF2019-1344         61093   2019-10-06   \n",
       "2      2755  75231.0  UF2019-1665         62820   2019-12-31   \n",
       "3      2110  75228.0  UF2019-1314         60990   2019-09-30   \n",
       "4      1663  75051.0  UF2019-1030  59592, 59600   2019-08-04   \n",
       "\n",
       "         time_occured  current_ba off_sex  off_race  hire_date  off_injured  \\\n",
       "0 2020-08-04 22:34:00       11285    Male     White 2017-03-08        False   \n",
       "1 2020-08-04 00:50:00       11208    Male     White 2016-08-24         True   \n",
       "2 2020-08-04 23:37:00        9415    Male     White 2008-04-02        False   \n",
       "3 2020-08-04 18:20:00        9884    Male  Hispanic 2009-06-10        False   \n",
       "4 2020-08-04 00:10:00       10480    Male  Hispanic 2012-09-26         True   \n",
       "\n",
       "                  off_cond_type  off_hospital    service_type  \\\n",
       "0  No injuries noted or visible         False    Service Call   \n",
       "1  No injuries noted or visible         False          Arrest   \n",
       "2  No injuries noted or visible         False          Arrest   \n",
       "3  No injuries noted or visible         False  Call for Cover   \n",
       "4  No injuries noted or visible         False          Arrest   \n",
       "\n",
       "                     uof_type       uof_reason cycles_num uof_effective  \\\n",
       "0  BD - Tripped, BD - Grabbed  Detention/Frisk        NaN      Yes, Yes   \n",
       "1           Held Suspect Down           Arrest        NaN           Yes   \n",
       "2              K-9 Deployment           Arrest        NaN           Yes   \n",
       "3                 Joint Locks           Arrest        NaN           Yes   \n",
       "4   Joint Locks, BD - Grabbed           Arrest        NaN      Yes, Yes   \n",
       "\n",
       "   street_n     street street_g street_t                 address     cit_num  \\\n",
       "0       102   Beltline        S      Rd.      102 S Beltline Rd.       60833   \n",
       "1      1500  Oak Cliff        S    Blvd.  1500 S Oak Cliff Blvd.  6020748798   \n",
       "2      6904    Walling      NaN      Ln.        6904 Walling Ln.       61130   \n",
       "3     11760   Ferguson      NaN      Rd.      11760 Ferguson Rd.       26625   \n",
       "4      1350    Skyline      NaN      Rd.        1350 Skyline Rd.       59513   \n",
       "\n",
       "   cit_race cit_sex  cit_injured                 cit_cond_type  cit_arrest  \\\n",
       "0     White    Male        False  No injuries noted or visible       False   \n",
       "1  Hispanic  Female         True      Injured prior to contact        True   \n",
       "2     Black    Male         True                          Bite        True   \n",
       "3     White  Female        False  No injuries noted or visible        True   \n",
       "4     Black    Male        False  No injuries noted or visible        True   \n",
       "\n",
       "   cit_influence                             cit_charge_type council_district  \\\n",
       "0       Agitated                                   No Arrest               D8   \n",
       "1       Agitated                                       APOWW               D1   \n",
       "2   Poor hygiene           Burglary/Habitation, Warrant/Hold               D9   \n",
       "3  Unknown Drugs  Assault/FV, Resisting Arrest, Warrant/Hold               D9   \n",
       "4       Agitated                      Assault/Public Servant              NaN   \n",
       "\n",
       "       ra   beat  sector   division            x            y  \\\n",
       "0  6062.0  357.0   350.0  SOUTHEAST  2557123.437  6944231.397   \n",
       "1  4160.0  444.0   440.0  SOUTHWEST  2474936.793  6952151.398   \n",
       "2  6034.0  247.0   240.0  NORTHEAST  2508349.267  7001784.466   \n",
       "3  1132.0  228.0   220.0  NORTHEAST  2536678.324  6999039.025   \n",
       "4     NaN    NaN     NaN        NaN  2433285.622  6953645.720   \n",
       "\n",
       "                    geolocation  council_districts_test  \\\n",
       "0  POINT (-96.586265 32.702825)                     8.0   \n",
       "1  POINT (-96.853036 32.729136)                     1.0   \n",
       "2  POINT (-96.741661 32.863941)                    13.0   \n",
       "3  POINT (-96.649175 32.855492)                    13.0   \n",
       "4   POINT (-96.98722 32.734935)                     NaN   \n",
       "\n",
       "   dallas_city_limis_gis_layer  \n",
       "0                          3.0  \n",
       "1                          3.0  \n",
       "2                          3.0  \n",
       "3                          3.0  \n",
       "4                          NaN  "
      ]
     },
     "execution_count": 224,
     "metadata": {},
     "output_type": "execute_result"
    }
   ],
   "source": [
    "prr19.head()"
   ]
  },
  {
   "cell_type": "code",
   "execution_count": 225,
   "metadata": {},
   "outputs": [
    {
     "name": "stdout",
     "output_type": "stream",
     "text": [
      "<class 'pandas.core.frame.DataFrame'>\n",
      "RangeIndex: 2944 entries, 0 to 2943\n",
      "Data columns (total 41 columns):\n",
      "objectid                       2944 non-null int64\n",
      "zip                            2943 non-null float64\n",
      "file_num                       2944 non-null object\n",
      "uof_num                        2944 non-null object\n",
      "date_occured                   2944 non-null datetime64[ns]\n",
      "time_occured                   2931 non-null datetime64[ns]\n",
      "current_ba                     2944 non-null int64\n",
      "off_sex                        2944 non-null object\n",
      "off_race                       2944 non-null object\n",
      "hire_date                      2944 non-null datetime64[ns]\n",
      "off_injured                    2944 non-null bool\n",
      "off_cond_type                  2944 non-null object\n",
      "off_hospital                   2944 non-null bool\n",
      "service_type                   2937 non-null object\n",
      "uof_type                       2944 non-null object\n",
      "uof_reason                     2937 non-null object\n",
      "cycles_num                     174 non-null object\n",
      "uof_effective                  2944 non-null object\n",
      "street_n                       2944 non-null int64\n",
      "street                         2944 non-null object\n",
      "street_g                       751 non-null object\n",
      "street_t                       2905 non-null object\n",
      "address                        2942 non-null object\n",
      "cit_num                        2944 non-null object\n",
      "cit_race                       2891 non-null object\n",
      "cit_sex                        2930 non-null object\n",
      "cit_injured                    2944 non-null bool\n",
      "cit_cond_type                  2944 non-null object\n",
      "cit_arrest                     2944 non-null bool\n",
      "cit_influence                  2865 non-null object\n",
      "cit_charge_type                2944 non-null object\n",
      "council_district               2930 non-null object\n",
      "ra                             2930 non-null float64\n",
      "beat                           2930 non-null float64\n",
      "sector                         2930 non-null float64\n",
      "division                       2930 non-null object\n",
      "x                              2944 non-null float64\n",
      "y                              2944 non-null float64\n",
      "geolocation                    2758 non-null object\n",
      "council_districts_test         2744 non-null float64\n",
      "dallas_city_limis_gis_layer    2747 non-null float64\n",
      "dtypes: bool(4), datetime64[ns](3), float64(8), int64(3), object(23)\n",
      "memory usage: 862.6+ KB\n"
     ]
    }
   ],
   "source": [
    "prr19.info()"
   ]
  },
  {
   "cell_type": "code",
   "execution_count": null,
   "metadata": {},
   "outputs": [],
   "source": []
  }
 ],
 "metadata": {
  "kernelspec": {
   "display_name": "learn-env",
   "language": "python",
   "name": "learn-env"
  },
  "language_info": {
   "codemirror_mode": {
    "name": "ipython",
    "version": 3
   },
   "file_extension": ".py",
   "mimetype": "text/x-python",
   "name": "python",
   "nbconvert_exporter": "python",
   "pygments_lexer": "ipython3",
   "version": "3.6.9"
  }
 },
 "nbformat": 4,
 "nbformat_minor": 4
}
